{
 "cells": [
  {
   "cell_type": "markdown",
   "metadata": {},
   "source": [
    "# Music recommender system\n",
    "\n",
    "This notebook is focused on collaborative-based filtering.\n",
    "\n",
    "Collaborative Filters work with an interaction matrix, also called rating matrix. The aim of this algorithm is to learn a function that can predict if a user will benefit from an item.\n",
    "\n",
    "Among collaborative-based systems, we can encounter two types: **user-item** filtering and **item-item** filtering. \n",
    "\n",
    "There are several machine learning algorithms that can be used in the case of collaborative filtering. Among them, we can use nearest-neighbor and matrix factorization.\n",
    "\n",
    "**K-Nearest Neighbors (kNN)** and **Matrix Factorization** are standard methods when it comes to both user-based and item-based collaborative filtering approaches.\n"
   ]
  },
  {
   "cell_type": "markdown",
   "metadata": {},
   "source": [
    "### Importing required libraries"
   ]
  },
  {
   "cell_type": "markdown",
   "metadata": {},
   "source": [
    "First, we'll import all the required libraries."
   ]
  },
  {
   "cell_type": "code",
   "execution_count": 71,
   "metadata": {},
   "outputs": [],
   "source": [
    "import warnings\n",
    "warnings.filterwarnings(\"ignore\", category=FutureWarning)\n",
    "import pandas as pd\n",
    "import numpy as np\n",
    "import matplotlib.pyplot as plt\n",
    "import seaborn as sns\n",
    "from scipy.sparse import csr_matrix\n",
    "from recommeders.knn_recommender import Recommender"
   ]
  },
  {
   "cell_type": "markdown",
   "metadata": {},
   "source": [
    "# Dataset"
   ]
  },
  {
   "cell_type": "code",
   "execution_count": 25,
   "metadata": {},
   "outputs": [
    {
     "data": {
      "text/html": [
       "<div>\n",
       "<style scoped>\n",
       "    .dataframe tbody tr th:only-of-type {\n",
       "        vertical-align: middle;\n",
       "    }\n",
       "\n",
       "    .dataframe tbody tr th {\n",
       "        vertical-align: top;\n",
       "    }\n",
       "\n",
       "    .dataframe thead th {\n",
       "        text-align: right;\n",
       "    }\n",
       "</style>\n",
       "<table border=\"1\" class=\"dataframe\">\n",
       "  <thead>\n",
       "    <tr style=\"text-align: right;\">\n",
       "      <th></th>\n",
       "      <th>artist.familiarity</th>\n",
       "      <th>artist.hotttnesss</th>\n",
       "      <th>artist.id</th>\n",
       "      <th>artist.latitude</th>\n",
       "      <th>artist.location</th>\n",
       "      <th>artist.longitude</th>\n",
       "      <th>artist.name</th>\n",
       "      <th>artist.similar</th>\n",
       "      <th>artist.terms</th>\n",
       "      <th>artist.terms_freq</th>\n",
       "      <th>...</th>\n",
       "      <th>song.mode</th>\n",
       "      <th>song.mode_confidence</th>\n",
       "      <th>song.start_of_fade_out</th>\n",
       "      <th>song.tatums_confidence</th>\n",
       "      <th>song.tatums_start</th>\n",
       "      <th>song.tempo</th>\n",
       "      <th>song.time_signature</th>\n",
       "      <th>song.time_signature_confidence</th>\n",
       "      <th>song.title</th>\n",
       "      <th>song.year</th>\n",
       "    </tr>\n",
       "  </thead>\n",
       "  <tbody>\n",
       "    <tr>\n",
       "      <th>0</th>\n",
       "      <td>0.581794</td>\n",
       "      <td>0.401998</td>\n",
       "      <td>ARD7TVE1187B99BFB1</td>\n",
       "      <td>0.00000</td>\n",
       "      <td>0</td>\n",
       "      <td>0.00000</td>\n",
       "      <td>Casual</td>\n",
       "      <td>0.0</td>\n",
       "      <td>hip hop</td>\n",
       "      <td>1.000000</td>\n",
       "      <td>...</td>\n",
       "      <td>0</td>\n",
       "      <td>0.636</td>\n",
       "      <td>218.932</td>\n",
       "      <td>0.779</td>\n",
       "      <td>0.28519</td>\n",
       "      <td>92.198</td>\n",
       "      <td>4.0</td>\n",
       "      <td>0.778</td>\n",
       "      <td>0</td>\n",
       "      <td>0</td>\n",
       "    </tr>\n",
       "    <tr>\n",
       "      <th>1</th>\n",
       "      <td>0.630630</td>\n",
       "      <td>0.417500</td>\n",
       "      <td>ARMJAGH1187FB546F3</td>\n",
       "      <td>35.14968</td>\n",
       "      <td>0</td>\n",
       "      <td>-90.04892</td>\n",
       "      <td>The Box Tops</td>\n",
       "      <td>0.0</td>\n",
       "      <td>blue-eyed soul</td>\n",
       "      <td>1.000000</td>\n",
       "      <td>...</td>\n",
       "      <td>0</td>\n",
       "      <td>0.430</td>\n",
       "      <td>137.915</td>\n",
       "      <td>0.969</td>\n",
       "      <td>0.20627</td>\n",
       "      <td>121.274</td>\n",
       "      <td>4.0</td>\n",
       "      <td>0.384</td>\n",
       "      <td>0</td>\n",
       "      <td>1969</td>\n",
       "    </tr>\n",
       "    <tr>\n",
       "      <th>2</th>\n",
       "      <td>0.487357</td>\n",
       "      <td>0.343428</td>\n",
       "      <td>ARKRRTF1187B9984DA</td>\n",
       "      <td>0.00000</td>\n",
       "      <td>0</td>\n",
       "      <td>0.00000</td>\n",
       "      <td>Sonora Santanera</td>\n",
       "      <td>0.0</td>\n",
       "      <td>salsa</td>\n",
       "      <td>1.000000</td>\n",
       "      <td>...</td>\n",
       "      <td>1</td>\n",
       "      <td>0.565</td>\n",
       "      <td>172.304</td>\n",
       "      <td>0.482</td>\n",
       "      <td>0.42132</td>\n",
       "      <td>100.070</td>\n",
       "      <td>1.0</td>\n",
       "      <td>0.000</td>\n",
       "      <td>0</td>\n",
       "      <td>0</td>\n",
       "    </tr>\n",
       "    <tr>\n",
       "      <th>3</th>\n",
       "      <td>0.630382</td>\n",
       "      <td>0.454231</td>\n",
       "      <td>AR7G5I41187FB4CE6C</td>\n",
       "      <td>0.00000</td>\n",
       "      <td>0</td>\n",
       "      <td>0.00000</td>\n",
       "      <td>Adam Ant</td>\n",
       "      <td>0.0</td>\n",
       "      <td>pop rock</td>\n",
       "      <td>0.988584</td>\n",
       "      <td>...</td>\n",
       "      <td>1</td>\n",
       "      <td>0.749</td>\n",
       "      <td>217.124</td>\n",
       "      <td>0.601</td>\n",
       "      <td>0.56254</td>\n",
       "      <td>119.293</td>\n",
       "      <td>4.0</td>\n",
       "      <td>0.000</td>\n",
       "      <td>0</td>\n",
       "      <td>1982</td>\n",
       "    </tr>\n",
       "    <tr>\n",
       "      <th>4</th>\n",
       "      <td>0.651046</td>\n",
       "      <td>0.401724</td>\n",
       "      <td>ARXR32B1187FB57099</td>\n",
       "      <td>0.00000</td>\n",
       "      <td>0</td>\n",
       "      <td>0.00000</td>\n",
       "      <td>Gob</td>\n",
       "      <td>0.0</td>\n",
       "      <td>pop punk</td>\n",
       "      <td>0.887288</td>\n",
       "      <td>...</td>\n",
       "      <td>1</td>\n",
       "      <td>0.371</td>\n",
       "      <td>198.699</td>\n",
       "      <td>1.000</td>\n",
       "      <td>0.13576</td>\n",
       "      <td>129.738</td>\n",
       "      <td>4.0</td>\n",
       "      <td>0.562</td>\n",
       "      <td>0</td>\n",
       "      <td>2007</td>\n",
       "    </tr>\n",
       "  </tbody>\n",
       "</table>\n",
       "<p>5 rows × 35 columns</p>\n",
       "</div>"
      ],
      "text/plain": [
       "   artist.familiarity  artist.hotttnesss           artist.id  artist.latitude  \\\n",
       "0            0.581794           0.401998  ARD7TVE1187B99BFB1          0.00000   \n",
       "1            0.630630           0.417500  ARMJAGH1187FB546F3         35.14968   \n",
       "2            0.487357           0.343428  ARKRRTF1187B9984DA          0.00000   \n",
       "3            0.630382           0.454231  AR7G5I41187FB4CE6C          0.00000   \n",
       "4            0.651046           0.401724  ARXR32B1187FB57099          0.00000   \n",
       "\n",
       "   artist.location  artist.longitude       artist.name  artist.similar  \\\n",
       "0                0           0.00000            Casual             0.0   \n",
       "1                0         -90.04892      The Box Tops             0.0   \n",
       "2                0           0.00000  Sonora Santanera             0.0   \n",
       "3                0           0.00000          Adam Ant             0.0   \n",
       "4                0           0.00000               Gob             0.0   \n",
       "\n",
       "     artist.terms  artist.terms_freq  ...  song.mode  song.mode_confidence  \\\n",
       "0         hip hop           1.000000  ...          0                 0.636   \n",
       "1  blue-eyed soul           1.000000  ...          0                 0.430   \n",
       "2           salsa           1.000000  ...          1                 0.565   \n",
       "3        pop rock           0.988584  ...          1                 0.749   \n",
       "4        pop punk           0.887288  ...          1                 0.371   \n",
       "\n",
       "   song.start_of_fade_out  song.tatums_confidence  song.tatums_start  \\\n",
       "0                 218.932                   0.779            0.28519   \n",
       "1                 137.915                   0.969            0.20627   \n",
       "2                 172.304                   0.482            0.42132   \n",
       "3                 217.124                   0.601            0.56254   \n",
       "4                 198.699                   1.000            0.13576   \n",
       "\n",
       "   song.tempo  song.time_signature  song.time_signature_confidence  \\\n",
       "0      92.198                  4.0                           0.778   \n",
       "1     121.274                  4.0                           0.384   \n",
       "2     100.070                  1.0                           0.000   \n",
       "3     119.293                  4.0                           0.000   \n",
       "4     129.738                  4.0                           0.562   \n",
       "\n",
       "   song.title  song.year  \n",
       "0           0          0  \n",
       "1           0       1969  \n",
       "2           0          0  \n",
       "3           0       1982  \n",
       "4           0       2007  \n",
       "\n",
       "[5 rows x 35 columns]"
      ]
     },
     "execution_count": 25,
     "metadata": {},
     "output_type": "execute_result"
    }
   ],
   "source": [
    "#Read userid-songid-listen_count\n",
    "\n",
    "# column_names = [\n",
    "#     \"artist.familiarity\", \"artist.hotttnesss\", \"artist.id\", \"artist.latitude\", \n",
    "#     \"artist.location\", \"artist.longitude\", \"artist.name\", \"artist.similar\", \n",
    "#     \"artist.terms\", \"artist.terms_freq\", \"release.id\", \"release.name\", \n",
    "#     \"song.artist_mbtags\", \"song.artist_mbtags_count\", \"song.bars_confidence\", \n",
    "#     \"song.bars_start\", \"song.beats_confidence\", \"song.beats_start\", \n",
    "#     \"song.duration\", \"song.end_of_fade_in\", \"song.hotttnesss\", \"song.id\", \n",
    "#     \"song.key\", \"song.key_confidence\", \"song.loudness\", \"song.mode\", \n",
    "#     \"song.mode_confidence\", \"song.start_of_fade_out\", \"song.tatums_confidence\", \n",
    "#     \"song.tatums_start\", \"song.tempo\", \"song.time_signature\", \n",
    "#     \"song.time_signature_confidence\", \"song.title\", \"song.year\"\n",
    "# ]\n",
    "\n",
    "# # OLD\n",
    "# song_info = pd.read_csv('music.csv', names=column_names, header=0, encoding='utf-8')"
   ]
  },
  {
   "cell_type": "code",
   "execution_count": 72,
   "metadata": {},
   "outputs": [],
   "source": [
    "#Read userid-songid-listen_count\n",
    "user_info = pd.read_csv('train_triplets.txt', sep='\\t', header=None)\n",
    "user_info.columns = ['user_id', 'song_id', 'listen_count']\n",
    "user_info = user_info.head(50000)\n",
    "\n",
    "#Read song metadata\n",
    "song_actual = pd.read_csv('unique_tracks.txt', sep='<SEP>', header=None, engine='python')\n",
    "song_actual.columns = ['release', 'song_id', 'artist_name', 'song_name']\n",
    "song_actual.drop_duplicates(['song_id'], inplace=True)\n",
    "song_actual.drop(columns=['release'])\n",
    "\n",
    "# Combine for collaborative recommendations\n",
    "songs = pd.merge(user_info, song_actual, on=\"song_id\", how=\"left\")\n",
    "songs.to_csv('processed_songs.csv', index=False)\n",
    "\n"
   ]
  },
  {
   "cell_type": "markdown",
   "metadata": {},
   "source": [
    "## Initial analysis of data"
   ]
  },
  {
   "cell_type": "code",
   "execution_count": 73,
   "metadata": {},
   "outputs": [
    {
     "name": "stdout",
     "output_type": "stream",
     "text": [
      "There are 50000 observations in the dataset\n"
     ]
    }
   ],
   "source": [
    "df_songs = pd.read_csv('processed_songs.csv')\n",
    "\n",
    "print(f\"There are {df_songs.shape[0]} observations in the dataset\")"
   ]
  },
  {
   "cell_type": "markdown",
   "metadata": {},
   "source": [
    "Check Missing Values"
   ]
  },
  {
   "cell_type": "code",
   "execution_count": 74,
   "metadata": {},
   "outputs": [
    {
     "data": {
      "text/plain": [
       "user_id         0\n",
       "song_id         0\n",
       "listen_count    0\n",
       "release         0\n",
       "artist_name     0\n",
       "song_name       0\n",
       "dtype: int64"
      ]
     },
     "execution_count": 74,
     "metadata": {},
     "output_type": "execute_result"
    }
   ],
   "source": [
    "df_songs.isnull().sum()"
   ]
  },
  {
   "cell_type": "code",
   "execution_count": 75,
   "metadata": {},
   "outputs": [
    {
     "name": "stdout",
     "output_type": "stream",
     "text": [
      "There are 25855 unique songs in the dataset\n",
      "There are 8490 unique artists in the dataset\n",
      "There are 1010 unique users in the dataset\n"
     ]
    }
   ],
   "source": [
    "#Unique songs\n",
    "unique_songs = df_songs['song_name'].unique().shape[0]\n",
    "print(f\"There are {unique_songs} unique songs in the dataset\")\n",
    "\n",
    "#Unique artists\n",
    "unique_artists = df_songs['artist_name'].unique().shape[0]\n",
    "print(f\"There are {unique_artists} unique artists in the dataset\")\n",
    "\n",
    "#Unique users\n",
    "unique_users = df_songs['user_id'].unique().shape[0]\n",
    "print(f\"There are {unique_users} unique users in the dataset\")"
   ]
  },
  {
   "cell_type": "markdown",
   "metadata": {},
   "source": [
    "Group Bys:"
   ]
  },
  {
   "cell_type": "code",
   "execution_count": 76,
   "metadata": {},
   "outputs": [
    {
     "data": {
      "image/png": "[encoded data removed]",
      "text/plain": [
       "<Figure size 640x480 with 1 Axes>"
      ]
     },
     "metadata": {},
     "output_type": "display_data"
    }
   ],
   "source": [
    "#count how many rows we have by artist name, we show only the ten more popular artist \n",
    "ten_pop_artists  = df_songs.groupby(['artist_name'])['listen_count'].count().reset_index().sort_values(['listen_count', 'artist_name'], ascending = [0,1])\n",
    "ten_pop_artists = ten_pop_artists[:10]\n",
    "\n",
    "plt.figure()\n",
    "labels = ten_pop_artists['artist_name'].tolist()\n",
    "counts = ten_pop_artists['listen_count'].tolist()\n",
    "sns.barplot(x=counts, y=labels, palette='Set2')\n",
    "sns.despine(left=True, bottom=True)"
   ]
  },
  {
   "cell_type": "code",
   "execution_count": 77,
   "metadata": {},
   "outputs": [
    {
     "name": "stdout",
     "output_type": "stream",
     "text": [
      "The maximum time the same user listened to the same songs was: 1890\n",
      "On average, a user listen to the same song 2.9002 times\n"
     ]
    },
    {
     "data": {
      "image/png": "[encoded data removed]",
      "text/plain": [
       "<Figure size 2000x500 with 1 Axes>"
      ]
     },
     "metadata": {},
     "output_type": "display_data"
    }
   ],
   "source": [
    "listen_counts = pd.DataFrame(df_songs.groupby('listen_count').size(), columns=['count'])\n",
    "print(f\"The maximum time the same user listened to the same songs was: {listen_counts.reset_index(drop=False)['listen_count'].iloc[-1]}\")\n",
    "print(f\"On average, a user listen to the same song {df_songs['listen_count'].mean()} times\")\n",
    "\n",
    "plt.figure(figsize=(20, 5))\n",
    "sns.boxplot(x='listen_count', data=df_songs)\n",
    "sns.despine()"
   ]
  },
  {
   "cell_type": "code",
   "execution_count": 93,
   "metadata": {},
   "outputs": [
    {
     "name": "stdout",
     "output_type": "stream",
     "text": [
      "The matrix of users x songs has 26063550 values that are zero\n"
     ]
    }
   ],
   "source": [
    "# Get how many values should it be if all songs have been listen by all users\n",
    "values_matrix = unique_users * unique_songs\n",
    "# Substract the total values with the actural shape of the DataFrame songs\n",
    "zero_values_matrix = values_matrix - df_songs.shape[0]\n",
    "print(f\"The matrix of users x songs has {zero_values_matrix} values that are zero\")"
   ]
  },
  {
   "cell_type": "markdown",
   "metadata": {},
   "source": [
    "### Prepare the data"
   ]
  },
  {
   "cell_type": "code",
   "execution_count": 81,
   "metadata": {},
   "outputs": [],
   "source": [
    "song_user = df_songs.groupby('user_id')['song_id'].count()\n",
    "# Get users which have listen to at least 16 songs\n",
    "song_ten_id = song_user[song_user > 16].index.to_list()\n",
    "# Filtered the dataset to keep only those users with more than 16 listened\n",
    "df_song_id_more_ten = df_songs[df_songs['user_id'].isin(song_ten_id)].reset_index(drop=True)\n"
   ]
  },
  {
   "cell_type": "code",
   "execution_count": 82,
   "metadata": {},
   "outputs": [],
   "source": [
    "# convert the dataframe into a pivot table\n",
    "df_songs_features = df_song_id_more_ten.pivot(index='song_id', columns='user_id', values='listen_count').fillna(0)\n",
    "\n",
    "# obtain a sparse matrix\n",
    "mat_songs_features = csr_matrix(df_songs_features.values)\n",
    "# We need now to work with a `scipy-sparse matrix` to avoid overflow and wasted memory. For that purpose, we'll use the `csr_matrix` function from `scipy.sparse`."
   ]
  },
  {
   "cell_type": "code",
   "execution_count": 83,
   "metadata": {},
   "outputs": [],
   "source": [
    "# Mapping from id to song_name\n",
    "df_unique_songs = df_songs.drop_duplicates(subset=['song_id']).reset_index(drop=True)[['song_id', 'song_name']]\n",
    "\n",
    "decode_id_song = {\n",
    "    song: i for i, song in \n",
    "    enumerate(list(df_unique_songs.set_index('song_id').loc[df_songs_features.index].song_name))\n",
    "}"
   ]
  },
  {
   "cell_type": "markdown",
   "metadata": {},
   "source": [
    "### Model and recommendations"
   ]
  },
  {
   "cell_type": "code",
   "execution_count": 84,
   "metadata": {},
   "outputs": [
    {
     "name": "stdout",
     "output_type": "stream",
     "text": [
      "Starting the recommendation process for I believe in miracles ...\n",
      "... Done\n",
      "The recommendations for I believe in miracles are:\n",
      "['Ooh Baby I Love You', 'Under The House', 'Another', \"I'll Be Home On Tuesday (take 2)\", 'People Get On Up', 'Warmer Places', 'How Am I Different', 'Sister Europe', 'Italian Skyline', 'Voice In Quartz']\n"
     ]
    }
   ],
   "source": [
    "model = Recommender(metric='cosine', algorithm='brute', k=20, data=mat_songs_features, decode_id_song=decode_id_song)\n",
    "song = 'I believe in miracles'\n",
    "new_recommendations = model.make_recommendation(new_song=song, n_recommendations=10)\n",
    "print(f\"The recommendations for {song} are:\")\n",
    "print(f\"{new_recommendations}\")"
   ]
  },
  {
   "cell_type": "markdown",
   "metadata": {},
   "source": [
    "# Matrix Factorization"
   ]
  },
  {
   "cell_type": "code",
   "execution_count": 87,
   "metadata": {},
   "outputs": [],
   "source": [
    "# from surprise import SVD\n",
    "# from surprise import Dataset, Reader\n",
    "# from surprise import accuracy\n",
    "# from surprise.model_selection import train_test_split\n",
    "# from surprise.model_selection import GridSearchCV\n",
    "# from surprise.model_selection import cross_validate"
   ]
  },
  {
   "cell_type": "code",
   "execution_count": 89,
   "metadata": {},
   "outputs": [],
   "source": [
    "# df_songs = pd.read_csv('processed_songs.csv')\n",
    "# song_user = df_songs.groupby('song_id')['user_id'].count()\n",
    "\n",
    "# user_counts = df_songs.groupby('user_id')['song_id'].count()\n",
    "\n",
    "# user_ten_id = user_counts[user_counts > 16].index.to_list()\n",
    "# song_counts = df_songs.groupby('song_id')['user_id'].count()\n",
    "\n",
    "# song_ten_id = song_counts[song_counts > 40].index.to_list()\n",
    "\n",
    "# # Filtered the dataset to keep only those users with more than 16 listened and songs listened to 40 times\n",
    "# df_song_reduced = df_songs[(df_songs['user_id'].isin(user_ten_id)) & (df_songs['song_id'].isin(song_ten_id))].reset_index(drop=True)"
   ]
  },
  {
   "cell_type": "markdown",
   "metadata": {},
   "source": [
    "### Model and recommendations\n",
    "\n",
    "Matrix Factorization is a powerful way to implement a recommendation system. The idea behind it is to represent users and items in a lower-dimensional latent space. \n",
    "\n",
    "So, in other words, Matrix factorization methods decompose the original sparse user-item matrix into lower dimensionality less sparse rectangular matrices with latent features.\n",
    "\n",
    "This does not only solve the sparsity issue but also makes the method scalable. It doesn't matter how big the matrix is, you can always find lower dimensionality matrices that are a true representation of the original one.\n",
    "\n",
    "Among the different matrix factorization techniques, we found the popular singular value decomposition (SVD).\n",
    "\n",
    "This can be an abstract concept as we deepen into the mathematical foundations. But we'll try to keep it as simple as possible.\n",
    "Imagine we have a matrix A that contains the data for n users x m songs. This matrix can be decomposed uniquely into 3 matrices; let's called them U, S, and V. \n",
    "\n",
    "In terms of our song recommender:\n",
    "\n",
    "- U is an n users x r user-latent feature matrix\n",
    "- V is an m songs x r song-latent feature matrix\n",
    "- S is an r x r non-negative diagonal matrix containing the singular values of the original matrix.\n",
    "\n",
    "Instead of working with the implicit rating as it is, we'll apply the binning technique.  \n",
    "  \n",
    "We'll define 10 categories. The original data values which fall into the interval from 0 to 1, will be replaced by the representative rating of 1; if they fall into the interval 1 to 2, they will be replaced by 2; and so on and so forth. The last category will be assigned to original values ranging from 9 to 2213."
   ]
  },
  {
   "cell_type": "code",
   "execution_count": 91,
   "metadata": {},
   "outputs": [],
   "source": [
    "# bins = [0, 1, 2, 3, 4, 5, 6, 7, 8, 9, 2214]\n",
    "# df_song_reduced['listen_count'] = pd.cut(df_song_reduced['listen_count'], bins=bins, labels=[1, 2, 3, 4, 5, 6, 7, 8, 9, 10])\n",
    "# listen_counts = pd.DataFrame(df_song_reduced.groupby('listen_count').size(), columns=['count']).reset_index(drop=False)"
   ]
  },
  {
   "cell_type": "markdown",
   "metadata": {},
   "source": [
    "### Using Surprise for SVD"
   ]
  },
  {
   "cell_type": "code",
   "execution_count": 92,
   "metadata": {},
   "outputs": [
    {
     "name": "stderr",
     "output_type": "stream",
     "text": [
      "[Parallel(n_jobs=-2)]: Using backend LokyBackend with 7 concurrent workers.\n",
      "[Parallel(n_jobs=-2)]: Done   3 out of  12 | elapsed:    7.5s remaining:   22.5s\n",
      "[Parallel(n_jobs=-2)]: Done   7 out of  12 | elapsed:    7.5s remaining:    5.4s\n",
      "[Parallel(n_jobs=-2)]: Done  12 out of  12 | elapsed:    7.6s finished\n"
     ]
    },
    {
     "name": "stdout",
     "output_type": "stream",
     "text": [
      "2.5932817039999034\n",
      "{'n_factors': 160, 'n_epochs': 100, 'lr_all': 0.005, 'reg_all': 0.08}\n",
      "Evaluating RMSE of algorithm SVD on 5 split(s).\n",
      "\n",
      "                  Fold 1  Fold 2  Fold 3  Fold 4  Fold 5  Mean    Std     \n",
      "RMSE (testset)    2.6107  2.4276  2.6538  2.6180  2.6945  2.6009  0.0916  \n",
      "Fit time          0.07    0.07    0.06    0.06    0.06    0.06    0.01    \n",
      "Test time         0.00    0.00    0.00    0.00    0.00    0.00    0.00    \n",
      "RMSE: 2.7080\n",
      "The RMSE is 2.707971522396805\n"
     ]
    }
   ],
   "source": [
    "# reader = Reader(rating_scale=(1, 10))\n",
    "# data = Dataset.load_from_df(df_song_reduced[['user_id', 'song_id', 'listen_count']], reader)\n",
    "\n",
    "# # Split into training and testing\n",
    "# trainset, testset = train_test_split(data, test_size=.25)\n",
    "\n",
    "# param_grid = {'n_factors': [160], \n",
    "#     'n_epochs': [100], \n",
    "#     'lr_all': [0.001, 0.005],\n",
    "#     'reg_all': [0.08, 0.1]}\n",
    "\n",
    "# grid_search_svd = GridSearchCV(SVD, param_grid, measures=['rmse'], cv=3, joblib_verbose=4, n_jobs=-2)\n",
    "\n",
    "# # find the best parameters for the model\n",
    "# grid_search_svd.fit(data)\n",
    "# find_algo = grid_search_svd.best_estimator['rmse']\n",
    "# print(grid_search_svd.best_score['rmse'])\n",
    "# print(grid_search_svd.best_params['rmse'])\n",
    "\n",
    "# # Perform the cross validation\n",
    "# cross_validate(find_algo, data, measures=['RMSE'], cv=5, verbose=True)\n",
    "\n",
    "# final_algorithm = SVD(n_factors=160, n_epochs=100, lr_all=0.005, reg_all=0.1)\n",
    "# final_algorithm.fit(trainset)\n",
    "# test_predictions = final_algorithm.test(testset)\n",
    "# print(f\"The RMSE is {accuracy.rmse(test_predictions, verbose=True)}\")\n"
   ]
  }
 ],
 "metadata": {
  "kernelspec": {
   "display_name": "Python 3",
   "language": "python",
   "name": "python3"
  },
  "language_info": {
   "codemirror_mode": {
    "name": "ipython",
    "version": 3
   },
   "file_extension": ".py",
   "mimetype": "text/x-python",
   "name": "python",
   "nbconvert_exporter": "python",
   "pygments_lexer": "ipython3",
   "version": "3.8.2"
  }
 },
 "nbformat": 4,
 "nbformat_minor": 4
}
